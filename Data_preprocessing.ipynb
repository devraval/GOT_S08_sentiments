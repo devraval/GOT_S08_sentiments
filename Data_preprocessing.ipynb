{
  "nbformat": 4,
  "nbformat_minor": 0,
  "metadata": {
    "colab": {
      "name": "Data_preprocessing.ipynb",
      "provenance": [],
      "mount_file_id": "1kSWOgYIFEtmaiQl8vOetWNut0kfCa2pj",
      "authorship_tag": "ABX9TyNl/kXKoq5zBUj5Nynz+hkw",
      "include_colab_link": true
    },
    "kernelspec": {
      "name": "python3",
      "display_name": "Python 3"
    }
  },
  "cells": [
    {
      "cell_type": "markdown",
      "metadata": {
        "id": "view-in-github",
        "colab_type": "text"
      },
      "source": [
        "<a href=\"https://colab.research.google.com/github/devraval/GOT_S08_sentiments/blob/main/Data_preprocessing.ipynb\" target=\"_parent\"><img src=\"https://colab.research.google.com/assets/colab-badge.svg\" alt=\"Open In Colab\"/></a>"
      ]
    },
    {
      "cell_type": "code",
      "metadata": {
        "id": "Akb5pDFA0HCy"
      },
      "source": [
        "import pandas as pd \r\n",
        "import datetime as dt \r\n",
        "import json"
      ],
      "execution_count": 1,
      "outputs": []
    },
    {
      "cell_type": "code",
      "metadata": {
        "id": "jWHk6KE380ZQ"
      },
      "source": [
        "#!pip3 uninstall twint\r\n",
        "!pip3 install --user --upgrade git+https://github.com/twintproject/twint.git@origin/master#egg=twint\r\n"
      ],
      "execution_count": null,
      "outputs": []
    },
    {
      "cell_type": "markdown",
      "metadata": {
        "id": "WqVxKsAYi5rJ"
      },
      "source": [
        "Using Twint a twitter intelligence tool, a twitter web scraper I found on github at https://github.com/twintproject/twint."
      ]
    },
    {
      "cell_type": "code",
      "metadata": {
        "id": "_UVhAYR39nLl"
      },
      "source": [
        "import twint"
      ],
      "execution_count": 2,
      "outputs": []
    },
    {
      "cell_type": "markdown",
      "metadata": {
        "id": "2-qH7fHioeSH"
      },
      "source": [
        "Wait for 5-10 mins after executing each one of the below cells to scrape twitter data. Note that cell may give you an error but the data will be downloaded."
      ]
    },
    {
      "cell_type": "code",
      "metadata": {
        "id": "PgGK5hZ16pum"
      },
      "source": [
        "c = twint.Config()\r\n",
        "c.Search = \"#GOT\"\r\n",
        "c.Store_object = True\r\n",
        "c.Since='2019-05-21'\r\n",
        "c.Until='2019-05-27'\r\n",
        "c.Limit=200000\r\n",
        "c.Store_csv=True\r\n",
        "c.Output='/content/drive/MyDrive/Kaggle/MAY_27_MAY_21.csv'\r\n",
        "\r\n",
        "\r\n",
        "twint.run.Search(c)"
      ],
      "execution_count": null,
      "outputs": []
    },
    {
      "cell_type": "code",
      "metadata": {
        "id": "BwQsXgtUugyZ"
      },
      "source": [
        "c = twint.Config()\r\n",
        "c.Search = \"#GOT\"\r\n",
        "c.Store_object = True\r\n",
        "c.Since='2019-04-15'\r\n",
        "c.Until='2019-05-22'\r\n",
        "c.Min_likes=10\r\n",
        "c.Limit=500000\r\n",
        "c.Store_csv=True\r\n",
        "c.Output='/content/drive/MyDrive/Kaggle/MAY_21_APR_15_1.csv'\r\n",
        "\r\n",
        "\r\n",
        "twint.run.Search(c)"
      ],
      "execution_count": null,
      "outputs": []
    },
    {
      "cell_type": "code",
      "metadata": {
        "id": "82ltuN307yNO"
      },
      "source": [
        "c = twint.Config()\r\n",
        "c.Search = \"#GOT\"\r\n",
        "c.Store_object = True\r\n",
        "c.Since='2019-04-10'\r\n",
        "c.Until='2019-04-15'\r\n",
        "c.Min_likes=10\r\n",
        "c.Limit=500000\r\n",
        "c.Store_csv=True\r\n",
        "c.Output='/content/drive/MyDrive/Kaggle/APR_15_APR_10.csv'\r\n",
        "\r\n",
        "\r\n",
        "twint.run.Search(c)"
      ],
      "execution_count": null,
      "outputs": []
    },
    {
      "cell_type": "markdown",
      "metadata": {
        "id": "uq91lfuJiqTa"
      },
      "source": [
        "#### Merge csv files into one"
      ]
    },
    {
      "cell_type": "code",
      "metadata": {
        "colab": {
          "base_uri": "https://localhost:8080/"
        },
        "id": "dwgaJ97Xf-gk",
        "outputId": "1ae6b771-4e8d-4da5-f8da-e8ea451b6413"
      },
      "source": [
        "df1=pd.read_csv('/content/drive/MyDrive/Kaggle/APR_15_APR_10.csv')\r\n",
        "df2=pd.read_csv('/content/drive/MyDrive/Kaggle/MAY_21_APR_15_1.csv')\r\n",
        "df3=pd.read_csv('/content/drive/MyDrive/Kaggle/MAY_27_MAY_21.csv')\r\n",
        "for df in [df1,df2,df3]:\r\n",
        "  print('df spans',df['date'].nunique(),'days and number of tweets is', df.shape[0])"
      ],
      "execution_count": 45,
      "outputs": [
        {
          "output_type": "stream",
          "text": [
            "df spans 5 days and number of tweets is 9058\n",
            "df spans 37 days and number of tweets is 73915\n",
            "df spans 6 days and number of tweets is 64988\n"
          ],
          "name": "stdout"
        }
      ]
    },
    {
      "cell_type": "code",
      "metadata": {
        "colab": {
          "base_uri": "https://localhost:8080/"
        },
        "id": "nIg3-669iO0N",
        "outputId": "edebddee-52ba-419c-841a-97aa1ce1a25a"
      },
      "source": [
        "df=pd.concat([df3,df2,df1],0,ignore_index=True)\r\n",
        "df_a=df #save copy\r\n",
        "df=df[df['language']=='en']\r\n",
        "df.shape"
      ],
      "execution_count": 46,
      "outputs": [
        {
          "output_type": "execute_result",
          "data": {
            "text/plain": [
              "(80566, 36)"
            ]
          },
          "metadata": {
            "tags": []
          },
          "execution_count": 46
        }
      ]
    },
    {
      "cell_type": "code",
      "metadata": {
        "id": "FTwIvoiPiRGU"
      },
      "source": [
        "df.to_csv('/content/drive/MyDrive/Kaggle/GOT_tweets.csv')"
      ],
      "execution_count": 48,
      "outputs": []
    }
  ]
}