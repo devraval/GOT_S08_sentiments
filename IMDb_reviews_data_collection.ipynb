{
  "nbformat": 4,
  "nbformat_minor": 0,
  "metadata": {
    "colab": {
      "name": "IMDb_reviews_data_collection.ipynb",
      "provenance": [],
      "collapsed_sections": [],
      "mount_file_id": "1AO5M18lqGbnzLsi8WZqiVjgfEqfNb5QP",
      "authorship_tag": "ABX9TyOhSiYjCuZXDhKicmsUzhqC",
      "include_colab_link": true
    },
    "kernelspec": {
      "name": "python3",
      "display_name": "Python 3"
    }
  },
  "cells": [
    {
      "cell_type": "markdown",
      "metadata": {
        "id": "view-in-github",
        "colab_type": "text"
      },
      "source": [
        "<a href=\"https://colab.research.google.com/github/devraval/GOT_S08_sentiments/blob/main/IMDb_reviews_data_collection.ipynb\" target=\"_parent\"><img src=\"https://colab.research.google.com/assets/colab-badge.svg\" alt=\"Open In Colab\"/></a>"
      ]
    },
    {
      "cell_type": "markdown",
      "metadata": {
        "id": "kaJIqJnGJifl"
      },
      "source": [
        "# Data scraping of GOT S08 IMDb reviews\r\n",
        "IMDb reviews were scraped using Selenium and BeautifulSoup libraries and stored episode wise. A shorter and faster way to scrape this data is possible but this was done keeping the order of the reviews according to the time frame and episode wise."
      ]
    },
    {
      "cell_type": "code",
      "metadata": {
        "id": "ATeQXaM6Avx2"
      },
      "source": [
        "!pip install selenium\r\n",
        "!apt-get update \r\n",
        "!apt install chromium-chromedriver"
      ],
      "execution_count": null,
      "outputs": []
    },
    {
      "cell_type": "code",
      "metadata": {
        "id": "-UPo91oqAaUh"
      },
      "source": [
        "from selenium import webdriver \r\n",
        "from selenium.webdriver.common.keys import Keys \r\n",
        "from selenium.webdriver.support.ui import WebDriverWait \r\n",
        "from selenium.webdriver.support import expected_conditions as EC \r\n",
        "from selenium.webdriver.common.by import By \r\n",
        "from selenium.common.exceptions import NoSuchElementException \r\n",
        "import time\r\n",
        "import pandas as pd\r\n",
        "import numpy as np"
      ],
      "execution_count": null,
      "outputs": []
    },
    {
      "cell_type": "code",
      "metadata": {
        "colab": {
          "base_uri": "https://localhost:8080/"
        },
        "id": "KzSf0eV_S3LD",
        "outputId": "4537c70a-20dd-407c-a384-afd8e2d4bc1c"
      },
      "source": [
        "from selenium import webdriver\r\n",
        "chrome_options = webdriver.ChromeOptions()\r\n",
        "chrome_options.add_argument('--headless')\r\n",
        "chrome_options.add_argument('--no-sandbox')\r\n",
        "chrome_options.add_argument('--disable-dev-shm-usage')\r\n",
        "wd = webdriver.Chrome('chromedriver',chrome_options=chrome_options)\r\n",
        "driver =webdriver.Chrome('chromedriver',chrome_options=chrome_options)"
      ],
      "execution_count": null,
      "outputs": [
        {
          "output_type": "stream",
          "text": [
            "/usr/local/lib/python3.6/dist-packages/ipykernel_launcher.py:6: DeprecationWarning: use options instead of chrome_options\n",
            "  \n",
            "/usr/local/lib/python3.6/dist-packages/ipykernel_launcher.py:7: DeprecationWarning: use options instead of chrome_options\n",
            "  import sys\n"
          ],
          "name": "stderr"
        }
      ]
    },
    {
      "cell_type": "markdown",
      "metadata": {
        "id": "5AdggQT_KChc"
      },
      "source": [
        "# Episode 1"
      ]
    },
    {
      "cell_type": "code",
      "metadata": {
        "id": "kigqipWkLnaP"
      },
      "source": [
        "from bs4 import BeautifulSoup\r\n",
        "testurl = 'https://www.imdb.com/title/tt5924366/reviews?sort=submissionDate&dir=asc&ratingFilter=0'\r\n",
        "patience_time1 = 60\r\n",
        "XPATH_loadmore = \"//*[@id='load-more-trigger']\"\r\n",
        "XPATH_grade = \"//*[@class='review-container']/div[1]\"\r\n",
        "list_grades = []\r\n",
        "\r\n",
        "driver.get(testurl)\r\n",
        "\r\n",
        "# This is the part in which I open all 'load more' buttons.\r\n",
        "while True:\r\n",
        "    try:\r\n",
        "        loadmore = driver.find_element_by_id(\"load-more-trigger\")\r\n",
        "        time.sleep(1)\r\n",
        "        loadmore.click()\r\n",
        "        time.sleep(2)\r\n",
        "    except Exception as e:\r\n",
        "        print(e)\r\n",
        "        break\r\n",
        "    print(\"Complete\")\r\n",
        "    time.sleep(2)\r\n",
        "\r\n",
        "    # When the whole page is loaded, I want to get all 'content' parts.\r\n",
        "    soup = BeautifulSoup(driver.page_source, features=\"html.parser\")\r\n",
        "    content = soup.find_all('div', class_=['text','show-more__control'])\r\n",
        "    title = soup.find_all('a', class_=['title'])\r\n",
        "    rating = soup.find_all('div', class_=['ipl-ratings-bar'])\r\n",
        "    list_rating = [tag.get_text() for tag in rating]\r\n",
        "    list_title = [tag.get_text() for tag in title]\r\n",
        "    list_content = [tag.get_text() for tag in content]\r\n",
        "driver.quit()\r\n",
        "print(len(list_title))"
      ],
      "execution_count": null,
      "outputs": []
    },
    {
      "cell_type": "code",
      "metadata": {
        "id": "qTizaoGtUoHd"
      },
      "source": [
        "import pandas as pd\r\n",
        "pd.DataFrame(list_content).to_csv('/content/drive/MyDrive/Kaggle/EP1_content.csv')\r\n",
        "pd.DataFrame(list_rating).to_csv('/content/drive/MyDrive/Kaggle/EP1_rating.csv')\r\n",
        "pd.DataFrame(list_title).to_csv('/content/drive/MyDrive/Kaggle/EP!_title.csv')"
      ],
      "execution_count": null,
      "outputs": []
    },
    {
      "cell_type": "code",
      "metadata": {
        "id": "usvguGcCRbzM"
      },
      "source": [
        "import pandas as pd\r\n",
        "content=pd.read_csv('/content/drive/MyDrive/Kaggle/EP1_content.csv',index_col=0)\r\n",
        "rating=pd.read_csv('/content/drive/MyDrive/Kaggle/EP1_rating.csv',index_col=0)\r\n",
        "title=pd.read_csv('/content/drive/MyDrive/Kaggle/EP!_title.csv',index_col=0)"
      ],
      "execution_count": null,
      "outputs": []
    },
    {
      "cell_type": "markdown",
      "metadata": {
        "id": "WbWt9ROpKG58"
      },
      "source": [
        "# Data cleaning function"
      ]
    },
    {
      "cell_type": "code",
      "metadata": {
        "id": "GMXoSCVFwoOl"
      },
      "source": [
        "def clean_df(content,rating,title):\r\n",
        "  content.loc[:, '0'] = content['0'].str.replace('\\n', '')\r\n",
        "  content = content.replace(r'^\\s*$', np.nan, regex=True)\r\n",
        "  content.dropna(inplace=True)\r\n",
        "  content.set_index(title.index,inplace=True)\r\n",
        "\r\n",
        "  rating.loc[:, '0'] = rating['0'].str[6:8]\r\n",
        "  rating.loc[:, '0'] = rating['0'].str.replace('/', '')\r\n",
        "  rating.loc[:, '0'] = rating['0'].str.replace('-', '')\r\n",
        "  rating['0'] = rating['0'].apply(split_it)\r\n",
        "  rating = rating[rating['0'].str.contains(\"NaN\") == False]\r\n",
        "  rating['0'] = rating['0'].apply(pd.to_numeric)\r\n",
        "\r\n",
        "  title.loc[:, '0'] = title['0'].str.replace('\\n', '')\r\n",
        "\r\n",
        "  df=pd.concat([title,content,rating],1,ignore_index=True)\r\n",
        "  df.rename(columns={0:'title',1:'content',2:'rating'},inplace=True)\r\n",
        "  df['Review'] = df['title'].str.cat(df['content'], sep =\" \")\r\n",
        "  df.drop(['title','content'],1,inplace=True)\r\n",
        "  df.dropna(inplace=True)\r\n",
        "  df.index+=1\r\n",
        "  return df\r\n",
        "\r\n",
        "import re\r\n",
        "def split_it(rating):\r\n",
        "  return re.sub('[a-zA-Z]+','NaN', rating)"
      ],
      "execution_count": null,
      "outputs": []
    },
    {
      "cell_type": "code",
      "metadata": {
        "id": "JAIipbuypYUg"
      },
      "source": [
        "df=clean_df(content,rating,title)"
      ],
      "execution_count": null,
      "outputs": []
    },
    {
      "cell_type": "code",
      "metadata": {
        "id": "N2RC643x4hS8"
      },
      "source": [
        "df.to_csv('/content/drive/MyDrive/Kaggle/imdb_reviews/ep1.csv')"
      ],
      "execution_count": null,
      "outputs": []
    },
    {
      "cell_type": "markdown",
      "metadata": {
        "id": "M7lubzfu7t41"
      },
      "source": [
        "# EP 2"
      ]
    },
    {
      "cell_type": "code",
      "metadata": {
        "colab": {
          "base_uri": "https://localhost:8080/"
        },
        "id": "u0V8j8iB5gmC",
        "outputId": "1f1f7585-4e20-4284-e9b3-942fb26bf77f"
      },
      "source": [
        "from bs4 import BeautifulSoup\r\n",
        "testurl = 'https://www.imdb.com/title/tt6027908/reviews?sort=submissionDate&dir=asc&ratingFilter=0'\r\n",
        "patience_time1 = 60\r\n",
        "XPATH_loadmore = \"//*[@id='load-more-trigger']\"\r\n",
        "XPATH_grade = \"//*[@class='review-container']/div[1]\"\r\n",
        "list_grades = []\r\n",
        "\r\n",
        "driver.get(testurl)\r\n",
        "\r\n",
        "# This is the part in which I open all 'load more' buttons.\r\n",
        "while True:\r\n",
        "    try:\r\n",
        "        loadmore = driver.find_element_by_id(\"load-more-trigger\")\r\n",
        "        time.sleep(1)\r\n",
        "        loadmore.click()\r\n",
        "        time.sleep(2)\r\n",
        "    except Exception as e:\r\n",
        "        print(e)\r\n",
        "        break\r\n",
        "    print(\"Complete\")\r\n",
        "    time.sleep(2)\r\n",
        "\r\n",
        "    # When the whole page is loaded, I want to get all 'content' parts.\r\n",
        "    soup = BeautifulSoup(driver.page_source, features=\"html.parser\")\r\n",
        "    content = soup.find_all('div', class_=['text','show-more__control'])\r\n",
        "    title = soup.find_all('a', class_=['title'])\r\n",
        "    rating = soup.find_all('div', class_=['ipl-ratings-bar'])\r\n",
        "    list_rating = [tag.get_text() for tag in rating]\r\n",
        "    list_title = [tag.get_text() for tag in title]\r\n",
        "    list_content = [tag.get_text() for tag in content]\r\n",
        "driver.quit()\r\n",
        "print(len(list_title))"
      ],
      "execution_count": null,
      "outputs": [
        {
          "output_type": "stream",
          "text": [
            "Complete\n",
            "Complete\n",
            "Complete\n",
            "Complete\n",
            "Complete\n",
            "Complete\n",
            "Complete\n",
            "Complete\n",
            "Complete\n",
            "Complete\n",
            "Complete\n",
            "Complete\n",
            "Complete\n",
            "Complete\n",
            "Complete\n",
            "Complete\n",
            "Complete\n",
            "Complete\n",
            "Complete\n",
            "Complete\n",
            "Complete\n",
            "Message: element not interactable\n",
            "  (Session info: headless chrome=87.0.4280.66)\n",
            "\n",
            "539\n"
          ],
          "name": "stdout"
        }
      ]
    },
    {
      "cell_type": "code",
      "metadata": {
        "id": "A8JxxSX260PB"
      },
      "source": [
        "pd.DataFrame(list_content).to_csv('/content/drive/MyDrive/Kaggle/scraped/EP2_content.csv')\r\n",
        "pd.DataFrame(list_rating).to_csv('/content/drive/MyDrive/Kaggle/scraped/EP2_rating.csv')\r\n",
        "pd.DataFrame(list_title).to_csv('/content/drive/MyDrive/Kaggle/scraped/EP2_title.csv')"
      ],
      "execution_count": null,
      "outputs": []
    },
    {
      "cell_type": "code",
      "metadata": {
        "id": "10lLOMfZ69b4"
      },
      "source": [
        "content=pd.read_csv('/content/drive/MyDrive/Kaggle/scraped/EP2_content.csv',index_col=0)\r\n",
        "rating=pd.read_csv('/content/drive/MyDrive/Kaggle/scraped/EP2_rating.csv',index_col=0)\r\n",
        "title=pd.read_csv('/content/drive/MyDrive/Kaggle/scraped/EP2_title.csv',index_col=0)"
      ],
      "execution_count": null,
      "outputs": []
    },
    {
      "cell_type": "code",
      "metadata": {
        "id": "t1qvdXW98O_S"
      },
      "source": [
        "df=clean_df(content,rating,title)\r\n",
        "df.to_csv('/content/drive/MyDrive/Kaggle/imdb_reviews/ep2.csv')"
      ],
      "execution_count": null,
      "outputs": []
    },
    {
      "cell_type": "markdown",
      "metadata": {
        "id": "CSR7CXLG-oIb"
      },
      "source": [
        "# EP 3"
      ]
    },
    {
      "cell_type": "code",
      "metadata": {
        "id": "xv42ymwQ-ave"
      },
      "source": [
        "from bs4 import BeautifulSoup\r\n",
        "testurl = 'https://www.imdb.com/title/tt6027912/reviews?sort=submissionDate&dir=asc&ratingFilter=0'\r\n",
        "patience_time1 = 60\r\n",
        "XPATH_loadmore = \"//*[@id='load-more-trigger']\"\r\n",
        "XPATH_grade = \"//*[@class='review-container']/div[1]\"\r\n",
        "list_grades = []\r\n",
        "\r\n",
        "driver.get(testurl)\r\n",
        "\r\n",
        "# This is the part in which I open all 'load more' buttons.\r\n",
        "while True:\r\n",
        "    try:\r\n",
        "        loadmore = driver.find_element_by_id(\"load-more-trigger\")\r\n",
        "        time.sleep(1)\r\n",
        "        loadmore.click()\r\n",
        "        time.sleep(2)\r\n",
        "    except Exception as e:\r\n",
        "        print(e)\r\n",
        "        break\r\n",
        "    print(\"Complete\")\r\n",
        "    time.sleep(2)\r\n",
        "\r\n",
        "    # When the whole page is loaded, I want to get all 'content' parts.\r\n",
        "    soup = BeautifulSoup(driver.page_source, features=\"html.parser\")\r\n",
        "    content = soup.find_all('div', class_=['text','show-more__control'])\r\n",
        "    title = soup.find_all('a', class_=['title'])\r\n",
        "    rating = soup.find_all('div', class_=['ipl-ratings-bar'])\r\n",
        "    rating = [tag.get_text() for tag in rating]\r\n",
        "    title = [tag.get_text() for tag in title]\r\n",
        "    content = [tag.get_text() for tag in content]\r\n",
        "driver.quit()\r\n",
        "print(len(title))\r\n",
        "\r\n",
        "pd.DataFrame(content).to_csv('/content/drive/MyDrive/Kaggle/scraped/EP3_content.csv')\r\n",
        "pd.DataFrame(rating).to_csv('/content/drive/MyDrive/Kaggle/scraped/EP3_rating.csv')\r\n",
        "pd.DataFrame(title).to_csv('/content/drive/MyDrive/Kaggle/scraped/EP3_title.csv')\r\n",
        "content=pd.read_csv('/content/drive/MyDrive/Kaggle/scraped/EP3_content.csv',index_col=0)\r\n",
        "rating=pd.read_csv('/content/drive/MyDrive/Kaggle/scraped/EP3_rating.csv',index_col=0)\r\n",
        "title=pd.read_csv('/content/drive/MyDrive/Kaggle/scraped/EP3_title.csv',index_col=0)\r\n",
        "df=clean_df(content,rating,title)\r\n",
        "df.to_csv('/content/drive/MyDrive/Kaggle/imdb_reviews/ep3.csv')"
      ],
      "execution_count": null,
      "outputs": []
    },
    {
      "cell_type": "markdown",
      "metadata": {
        "id": "n5vCkatKKNHL"
      },
      "source": [
        "# Episode 4"
      ]
    },
    {
      "cell_type": "code",
      "metadata": {
        "id": "VS_2aDzO-7YU"
      },
      "source": [
        "from bs4 import BeautifulSoup\r\n",
        "testurl = 'https://www.imdb.com/title/tt6027914/reviews?sort=submissionDate&dir=asc&ratingFilter=0'\r\n",
        "patience_time1 = 60\r\n",
        "XPATH_loadmore = \"//*[@id='load-more-trigger']\"\r\n",
        "XPATH_grade = \"//*[@class='review-container']/div[1]\"\r\n",
        "list_grades = []\r\n",
        "\r\n",
        "driver.get(testurl)\r\n",
        "\r\n",
        "# This is the part in which I open all 'load more' buttons.\r\n",
        "while True:\r\n",
        "    try:\r\n",
        "        loadmore = driver.find_element_by_id(\"load-more-trigger\")\r\n",
        "        time.sleep(1)\r\n",
        "        loadmore.click()\r\n",
        "        time.sleep(2)\r\n",
        "    except Exception as e:\r\n",
        "        print(e)\r\n",
        "        break\r\n",
        "    print(\"Complete\")\r\n",
        "    time.sleep(2)\r\n",
        "\r\n",
        "    # When the whole page is loaded, I want to get all 'content' parts.\r\n",
        "    soup = BeautifulSoup(driver.page_source, features=\"html.parser\")\r\n",
        "    content = soup.find_all('div', class_=['text','show-more__control'])\r\n",
        "    title = soup.find_all('a', class_=['title'])\r\n",
        "    rating = soup.find_all('div', class_=['ipl-ratings-bar'])\r\n",
        "    rating = [tag.get_text() for tag in rating]\r\n",
        "    title = [tag.get_text() for tag in title]\r\n",
        "    content = [tag.get_text() for tag in content]\r\n",
        "driver.quit()\r\n",
        "print(len(title))\r\n",
        "\r\n",
        "pd.DataFrame(content).to_csv('/content/drive/MyDrive/Kaggle/scraped/EP4_content.csv')\r\n",
        "pd.DataFrame(rating).to_csv('/content/drive/MyDrive/Kaggle/scraped/EP4_rating.csv')\r\n",
        "pd.DataFrame(title).to_csv('/content/drive/MyDrive/Kaggle/scraped/EP4_title.csv')\r\n",
        "content=pd.read_csv('/content/drive/MyDrive/Kaggle/scraped/EP4_content.csv',index_col=0)\r\n",
        "rating=pd.read_csv('/content/drive/MyDrive/Kaggle/scraped/EP4_rating.csv',index_col=0)\r\n",
        "title=pd.read_csv('/content/drive/MyDrive/Kaggle/scraped/EP4_title.csv',index_col=0)\r\n",
        "df=clean_df(content,rating,title)\r\n",
        "df.to_csv('/content/drive/MyDrive/Kaggle/imdb_reviews/ep4.csv')"
      ],
      "execution_count": null,
      "outputs": []
    },
    {
      "cell_type": "markdown",
      "metadata": {
        "id": "92ifgehMKP3T"
      },
      "source": [
        "# Episode 5"
      ]
    },
    {
      "cell_type": "code",
      "metadata": {
        "id": "bUMRMisO130p"
      },
      "source": [
        "from bs4 import BeautifulSoup\r\n",
        "testurl = 'https://www.imdb.com/title/tt6027916/reviews?sort=submissionDate&dir=asc&ratingFilter=0'\r\n",
        "patience_time1 = 60\r\n",
        "XPATH_loadmore = \"//*[@id='load-more-trigger']\"\r\n",
        "XPATH_grade = \"//*[@class='review-container']/div[1]\"\r\n",
        "list_grades = []\r\n",
        "\r\n",
        "driver.get(testurl)\r\n",
        "\r\n",
        "# This is the part in which I open all 'load more' buttons.\r\n",
        "while True:\r\n",
        "    try:\r\n",
        "        loadmore = driver.find_element_by_id(\"load-more-trigger\")\r\n",
        "        time.sleep(1)\r\n",
        "        loadmore.click()\r\n",
        "        time.sleep(2)\r\n",
        "    except Exception as e:\r\n",
        "        print(e)\r\n",
        "        break\r\n",
        "    print(\"Complete\")\r\n",
        "    time.sleep(2)\r\n",
        "\r\n",
        "    # When the whole page is loaded, I want to get all 'content' parts.\r\n",
        "    soup = BeautifulSoup(driver.page_source, features=\"html.parser\")\r\n",
        "    content = soup.find_all('div', class_=['text','show-more__control'])\r\n",
        "    title = soup.find_all('a', class_=['title'])\r\n",
        "    rating = soup.find_all('div', class_=['ipl-ratings-bar'])\r\n",
        "    rating = [tag.get_text() for tag in rating]\r\n",
        "    title = [tag.get_text() for tag in title]\r\n",
        "    content = [tag.get_text() for tag in content]\r\n",
        "driver.quit()\r\n",
        "print(len(title))\r\n",
        "\r\n",
        "pd.DataFrame(content).to_csv('/content/drive/MyDrive/Kaggle/scraped/EP5_content.csv')\r\n",
        "pd.DataFrame(rating).to_csv('/content/drive/MyDrive/Kaggle/scraped/EP5_rating.csv')\r\n",
        "pd.DataFrame(title).to_csv('/content/drive/MyDrive/Kaggle/scraped/EP5_title.csv')\r\n",
        "content=pd.read_csv('/content/drive/MyDrive/Kaggle/scraped/EP5_content.csv',index_col=0)\r\n",
        "rating=pd.read_csv('/content/drive/MyDrive/Kaggle/scraped/EP5_rating.csv',index_col=0)\r\n",
        "title=pd.read_csv('/content/drive/MyDrive/Kaggle/scraped/EP5_title.csv',index_col=0)\r\n",
        "df=clean_df(content,rating,title)\r\n",
        "df.to_csv('/content/drive/MyDrive/Kaggle/imdb_reviews/ep5.csv')"
      ],
      "execution_count": null,
      "outputs": []
    },
    {
      "cell_type": "markdown",
      "metadata": {
        "id": "jiuc52HiKR5b"
      },
      "source": [
        "# Final Episode 6"
      ]
    },
    {
      "cell_type": "code",
      "metadata": {
        "colab": {
          "base_uri": "https://localhost:8080/"
        },
        "id": "tfx7h8Q3HBNy",
        "outputId": "628d5abd-c66e-4872-e74f-7bee164b9f16"
      },
      "source": [
        "from bs4 import BeautifulSoup\r\n",
        "testurl = 'https://www.imdb.com/title/tt6027920/reviews?sort=submissionDate&dir=asc&ratingFilter=0'\r\n",
        "patience_time1 = 60\r\n",
        "XPATH_loadmore = \"//*[@id='load-more-trigger']\"\r\n",
        "XPATH_grade = \"//*[@class='review-container']/div[1]\"\r\n",
        "list_grades = []\r\n",
        "\r\n",
        "driver.get(testurl)\r\n",
        "\r\n",
        "# This is the part in which I open all 'load more' buttons.\r\n",
        "while True:\r\n",
        "    try:\r\n",
        "        loadmore = driver.find_element_by_id(\"load-more-trigger\")\r\n",
        "        time.sleep(1)\r\n",
        "        loadmore.click()\r\n",
        "        time.sleep(1)\r\n",
        "    except Exception as e:\r\n",
        "        print(e)\r\n",
        "        break\r\n",
        "    print(\"Complete\")\r\n",
        "    time.sleep(1)\r\n",
        "\r\n",
        "    # When the whole page is loaded, I want to get all 'content' parts.\r\n",
        "    soup = BeautifulSoup(driver.page_source, features=\"html.parser\")\r\n",
        "    content = soup.find_all('div', class_=['text','show-more__control'])\r\n",
        "    title = soup.find_all('a', class_=['title'])\r\n",
        "    rating = soup.find_all('div', class_=['ipl-ratings-bar'])\r\n",
        "    rating = [tag.get_text() for tag in rating]\r\n",
        "    title = [tag.get_text() for tag in title]\r\n",
        "    content = [tag.get_text() for tag in content]\r\n",
        "driver.quit()\r\n",
        "print(len(title))\r\n",
        "pd.DataFrame(content).to_csv('/content/drive/MyDrive/Kaggle/scraped/EP6_content.csv')\r\n",
        "pd.DataFrame(rating).to_csv('/content/drive/MyDrive/Kaggle/scraped/EP6_rating.csv')\r\n",
        "pd.DataFrame(title).to_csv('/content/drive/MyDrive/Kaggle/scraped/EP6_title.csv')\r\n",
        "content=pd.read_csv('/content/drive/MyDrive/Kaggle/scraped/EP6_content.csv',index_col=0)\r\n",
        "rating=pd.read_csv('/content/drive/MyDrive/Kaggle/scraped/EP6_rating.csv',index_col=0)\r\n",
        "title=pd.read_csv('/content/drive/MyDrive/Kaggle/scraped/EP6_title.csv',index_col=0)\r\n",
        "df=clean_df(content,rating,title)\r\n",
        "df.to_csv('/content/drive/MyDrive/Kaggle/imdb_reviews/ep6.csv')"
      ],
      "execution_count": 4,
      "outputs": [
        {
          "output_type": "stream",
          "text": [
            "Complete\n",
            "Complete\n",
            "Complete\n",
            "Complete\n",
            "Complete\n",
            "Complete\n",
            "Complete\n",
            "Complete\n",
            "Complete\n",
            "Complete\n",
            "Complete\n",
            "Complete\n",
            "Complete\n",
            "Complete\n",
            "Complete\n",
            "Complete\n",
            "Complete\n",
            "Complete\n",
            "Complete\n",
            "Complete\n",
            "Complete\n",
            "Complete\n",
            "Complete\n",
            "Complete\n",
            "Complete\n",
            "Complete\n",
            "Complete\n",
            "Complete\n",
            "Complete\n",
            "Complete\n",
            "Complete\n",
            "Complete\n",
            "Complete\n",
            "Complete\n",
            "Complete\n",
            "Complete\n",
            "Complete\n",
            "Complete\n",
            "Complete\n",
            "Complete\n",
            "Complete\n",
            "Complete\n",
            "Complete\n",
            "Complete\n",
            "Complete\n",
            "Complete\n",
            "Complete\n",
            "Complete\n",
            "Complete\n",
            "Complete\n",
            "Complete\n",
            "Complete\n",
            "Complete\n",
            "Complete\n",
            "Complete\n",
            "Complete\n",
            "Complete\n",
            "Complete\n",
            "Complete\n",
            "Complete\n",
            "Complete\n",
            "Complete\n",
            "Complete\n",
            "Complete\n",
            "Complete\n",
            "Complete\n",
            "Complete\n",
            "Complete\n",
            "Complete\n",
            "Complete\n",
            "Complete\n",
            "Complete\n",
            "Complete\n",
            "Complete\n",
            "Complete\n",
            "Complete\n",
            "Complete\n",
            "Complete\n",
            "Complete\n",
            "Complete\n",
            "Complete\n",
            "Complete\n",
            "Complete\n",
            "Complete\n",
            "Complete\n",
            "Complete\n",
            "Complete\n",
            "Complete\n",
            "Complete\n",
            "Complete\n",
            "Complete\n",
            "Complete\n",
            "Complete\n",
            "Complete\n",
            "Complete\n",
            "Complete\n",
            "Complete\n",
            "Complete\n",
            "Complete\n",
            "Complete\n",
            "Complete\n",
            "Complete\n",
            "Complete\n",
            "Complete\n",
            "Complete\n",
            "Complete\n",
            "Complete\n",
            "Complete\n",
            "Complete\n",
            "Complete\n",
            "Complete\n",
            "Complete\n",
            "Complete\n",
            "Complete\n",
            "Complete\n",
            "Complete\n",
            "Complete\n",
            "Complete\n",
            "Complete\n",
            "Complete\n",
            "Complete\n",
            "Complete\n",
            "Complete\n",
            "Complete\n",
            "Complete\n",
            "Complete\n",
            "Complete\n",
            "Complete\n",
            "Complete\n",
            "Complete\n",
            "Complete\n",
            "Complete\n",
            "Complete\n",
            "Complete\n",
            "Complete\n",
            "Complete\n",
            "Complete\n",
            "Complete\n",
            "Complete\n",
            "Complete\n",
            "Complete\n",
            "Complete\n",
            "Complete\n",
            "Complete\n",
            "Complete\n",
            "Complete\n",
            "Complete\n",
            "Complete\n",
            "Complete\n",
            "Complete\n",
            "Complete\n",
            "Complete\n",
            "Complete\n",
            "Complete\n",
            "Complete\n",
            "Complete\n",
            "Complete\n",
            "Complete\n",
            "Complete\n",
            "Complete\n",
            "Complete\n",
            "Complete\n",
            "Complete\n",
            "Complete\n",
            "Complete\n",
            "Complete\n",
            "Complete\n",
            "Complete\n",
            "Complete\n",
            "Complete\n",
            "Complete\n",
            "Complete\n",
            "Complete\n",
            "Complete\n",
            "Complete\n",
            "Complete\n",
            "Complete\n",
            "Complete\n",
            "Complete\n",
            "Complete\n",
            "Complete\n",
            "Complete\n",
            "Complete\n",
            "Complete\n",
            "Complete\n",
            "Complete\n",
            "Complete\n",
            "Complete\n",
            "Complete\n",
            "Complete\n",
            "Complete\n",
            "Complete\n",
            "Complete\n",
            "Complete\n",
            "Complete\n",
            "Complete\n",
            "Complete\n",
            "Complete\n",
            "Complete\n",
            "Complete\n",
            "Complete\n",
            "Complete\n",
            "Complete\n",
            "Complete\n",
            "Complete\n",
            "Complete\n",
            "Complete\n",
            "Complete\n",
            "Complete\n",
            "Complete\n",
            "Complete\n",
            "Complete\n",
            "Complete\n",
            "Complete\n",
            "Complete\n",
            "Complete\n",
            "Complete\n",
            "Complete\n",
            "Complete\n",
            "Complete\n",
            "Complete\n",
            "Complete\n",
            "Complete\n",
            "Complete\n",
            "Complete\n",
            "Complete\n",
            "Complete\n",
            "Complete\n",
            "Complete\n",
            "Complete\n",
            "Complete\n",
            "Complete\n",
            "Complete\n",
            "Complete\n",
            "Complete\n",
            "Complete\n",
            "Complete\n",
            "Complete\n",
            "Complete\n",
            "Complete\n",
            "Complete\n",
            "Complete\n",
            "Complete\n",
            "Complete\n",
            "Complete\n",
            "Complete\n",
            "Complete\n",
            "Complete\n",
            "Complete\n",
            "Complete\n",
            "Complete\n",
            "Complete\n",
            "Complete\n",
            "Complete\n",
            "Complete\n",
            "Complete\n",
            "Complete\n",
            "Complete\n",
            "Complete\n",
            "Complete\n",
            "Complete\n",
            "Complete\n",
            "Complete\n",
            "Complete\n",
            "Complete\n",
            "Complete\n",
            "Complete\n",
            "Complete\n",
            "Complete\n",
            "Complete\n",
            "Complete\n",
            "Complete\n",
            "Complete\n",
            "Complete\n",
            "Complete\n",
            "Complete\n",
            "Complete\n",
            "Complete\n",
            "Complete\n",
            "Complete\n",
            "Complete\n",
            "Complete\n",
            "Complete\n",
            "Complete\n",
            "Complete\n",
            "Complete\n",
            "Complete\n",
            "Complete\n",
            "Complete\n",
            "Complete\n",
            "Complete\n",
            "Complete\n",
            "Complete\n",
            "Complete\n",
            "Complete\n",
            "Complete\n",
            "Complete\n",
            "Complete\n",
            "Message: element not interactable\n",
            "  (Session info: headless chrome=87.0.4280.66)\n",
            "\n",
            "7455\n"
          ],
          "name": "stdout"
        }
      ]
    },
    {
      "cell_type": "code",
      "metadata": {
        "id": "iaYbbsi2ftx1",
        "colab": {
          "base_uri": "https://localhost:8080/",
          "height": 399
        },
        "outputId": "a23b763c-c10f-48ce-8171-726faaa9dd23"
      },
      "source": [
        "df"
      ],
      "execution_count": 5,
      "outputs": [
        {
          "output_type": "execute_result",
          "data": {
            "text/html": [
              "<div>\n",
              "<style scoped>\n",
              "    .dataframe tbody tr th:only-of-type {\n",
              "        vertical-align: middle;\n",
              "    }\n",
              "\n",
              "    .dataframe tbody tr th {\n",
              "        vertical-align: top;\n",
              "    }\n",
              "\n",
              "    .dataframe thead th {\n",
              "        text-align: right;\n",
              "    }\n",
              "</style>\n",
              "<table border=\"1\" class=\"dataframe\">\n",
              "  <thead>\n",
              "    <tr style=\"text-align: right;\">\n",
              "      <th></th>\n",
              "      <th>rating</th>\n",
              "      <th>Review</th>\n",
              "    </tr>\n",
              "  </thead>\n",
              "  <tbody>\n",
              "    <tr>\n",
              "      <th>1</th>\n",
              "      <td>3.0</td>\n",
              "      <td>Shame shame shame Episodes 1+2:filler episode...</td>\n",
              "    </tr>\n",
              "    <tr>\n",
              "      <th>2</th>\n",
              "      <td>1.0</td>\n",
              "      <td>Great finale It was a great finale for a grea...</td>\n",
              "    </tr>\n",
              "    <tr>\n",
              "      <th>3</th>\n",
              "      <td>1.0</td>\n",
              "      <td>Ruined. Can we start a petition to refund mil...</td>\n",
              "    </tr>\n",
              "    <tr>\n",
              "      <th>4</th>\n",
              "      <td>1.0</td>\n",
              "      <td>Fantastic This TV show is unbelievable such a...</td>\n",
              "    </tr>\n",
              "    <tr>\n",
              "      <th>5</th>\n",
              "      <td>1.0</td>\n",
              "      <td>Bye The best show ever. I can say no more bec...</td>\n",
              "    </tr>\n",
              "    <tr>\n",
              "      <th>...</th>\n",
              "      <td>...</td>\n",
              "      <td>...</td>\n",
              "    </tr>\n",
              "    <tr>\n",
              "      <th>7283</th>\n",
              "      <td>1.0</td>\n",
              "      <td>When you have nothing to write This is how to...</td>\n",
              "    </tr>\n",
              "    <tr>\n",
              "      <th>7284</th>\n",
              "      <td>1.0</td>\n",
              "      <td>Explained to skeptical and haters I honestly ...</td>\n",
              "    </tr>\n",
              "    <tr>\n",
              "      <th>7285</th>\n",
              "      <td>1.0</td>\n",
              "      <td>Totally disappointing D and D why would you d...</td>\n",
              "    </tr>\n",
              "    <tr>\n",
              "      <th>7286</th>\n",
              "      <td>1.0</td>\n",
              "      <td>The Devil and his Children This series is a s...</td>\n",
              "    </tr>\n",
              "    <tr>\n",
              "      <th>7287</th>\n",
              "      <td>1.0</td>\n",
              "      <td>Destroyed Entire Series.. I really love this ...</td>\n",
              "    </tr>\n",
              "  </tbody>\n",
              "</table>\n",
              "<p>7287 rows × 2 columns</p>\n",
              "</div>"
            ],
            "text/plain": [
              "      rating                                             Review\n",
              "1        3.0   Shame shame shame Episodes 1+2:filler episode...\n",
              "2        1.0   Great finale It was a great finale for a grea...\n",
              "3        1.0   Ruined. Can we start a petition to refund mil...\n",
              "4        1.0   Fantastic This TV show is unbelievable such a...\n",
              "5        1.0   Bye The best show ever. I can say no more bec...\n",
              "...      ...                                                ...\n",
              "7283     1.0   When you have nothing to write This is how to...\n",
              "7284     1.0   Explained to skeptical and haters I honestly ...\n",
              "7285     1.0   Totally disappointing D and D why would you d...\n",
              "7286     1.0   The Devil and his Children This series is a s...\n",
              "7287     1.0   Destroyed Entire Series.. I really love this ...\n",
              "\n",
              "[7287 rows x 2 columns]"
            ]
          },
          "metadata": {
            "tags": []
          },
          "execution_count": 5
        }
      ]
    },
    {
      "cell_type": "code",
      "metadata": {
        "colab": {
          "base_uri": "https://localhost:8080/"
        },
        "id": "eHoz3u-YFQ9p",
        "outputId": "58704156-007f-4b8c-b2c4-30c22999160d"
      },
      "source": [
        "df['rating'].value_counts()"
      ],
      "execution_count": 6,
      "outputs": [
        {
          "output_type": "execute_result",
          "data": {
            "text/plain": [
              "1.0    5250\n",
              "2.0     490\n",
              "3.0     355\n",
              "8.0     245\n",
              "4.0     226\n",
              "9.0     225\n",
              "5.0     202\n",
              "7.0     169\n",
              "6.0     125\n",
              "Name: rating, dtype: int64"
            ]
          },
          "metadata": {
            "tags": []
          },
          "execution_count": 6
        }
      ]
    },
    {
      "cell_type": "markdown",
      "metadata": {
        "id": "VSDZxJqEKX0i"
      },
      "source": [
        "Seems like IMDb really hated the series finale.Then again most popular tv series in 21st Century have hated series finale so only Twitter may tell if this is just a viral trend  or true at individual grassroots level."
      ]
    },
    {
      "cell_type": "markdown",
      "metadata": {
        "id": "KJBeFv6UKz05"
      },
      "source": [
        "# Dataset of IMDb reviews"
      ]
    },
    {
      "cell_type": "code",
      "metadata": {
        "id": "cq8_RZaeFZji"
      },
      "source": [
        "ep1=pd.read_csv('/content/drive/MyDrive/Kaggle/imdb_reviews/ep1.csv')\r\n",
        "ep2=pd.read_csv('/content/drive/MyDrive/Kaggle/imdb_reviews/ep2.csv')\r\n",
        "ep3=pd.read_csv('/content/drive/MyDrive/Kaggle/imdb_reviews/ep3.csv')\r\n",
        "ep4=pd.read_csv('/content/drive/MyDrive/Kaggle/imdb_reviews/ep4.csv')\r\n",
        "ep5=pd.read_csv('/content/drive/MyDrive/Kaggle/imdb_reviews/ep5.csv')\r\n",
        "ep6=pd.read_csv('/content/drive/MyDrive/Kaggle/imdb_reviews/ep6.csv')"
      ],
      "execution_count": 7,
      "outputs": []
    },
    {
      "cell_type": "code",
      "metadata": {
        "id": "ZV3XAQrXGJrg"
      },
      "source": [
        "imdb_df=pd.concat([ep1,ep2,ep3,ep4,ep5,ep6],0,ignore_index=True)"
      ],
      "execution_count": 8,
      "outputs": []
    },
    {
      "cell_type": "code",
      "metadata": {
        "id": "Or9ko6hxGX-q"
      },
      "source": [
        "imdb_df.drop('Unnamed: 0',1,inplace=True)"
      ],
      "execution_count": 10,
      "outputs": []
    },
    {
      "cell_type": "code",
      "metadata": {
        "id": "_qQiP5HmGZPX"
      },
      "source": [
        "imdb_df.index+=1"
      ],
      "execution_count": null,
      "outputs": []
    },
    {
      "cell_type": "code",
      "metadata": {
        "colab": {
          "base_uri": "https://localhost:8080/",
          "height": 607
        },
        "id": "NBvCppNEGjdg",
        "outputId": "9ca40b26-8454-47cb-cc0c-87e197404430"
      },
      "source": [
        "pd.set_option('display.max_colwidth', -1)\r\n",
        "imdb_df"
      ],
      "execution_count": 16,
      "outputs": [
        {
          "output_type": "stream",
          "text": [
            "/usr/local/lib/python3.6/dist-packages/ipykernel_launcher.py:1: FutureWarning: Passing a negative integer is deprecated in version 1.0 and will not be supported in future version. Instead, use None to not limit the column width.\n",
            "  \"\"\"Entry point for launching an IPython kernel.\n"
          ],
          "name": "stderr"
        },
        {
          "output_type": "execute_result",
          "data": {
            "text/html": [
              "<div>\n",
              "<style scoped>\n",
              "    .dataframe tbody tr th:only-of-type {\n",
              "        vertical-align: middle;\n",
              "    }\n",
              "\n",
              "    .dataframe tbody tr th {\n",
              "        vertical-align: top;\n",
              "    }\n",
              "\n",
              "    .dataframe thead th {\n",
              "        text-align: right;\n",
              "    }\n",
              "</style>\n",
              "<table border=\"1\" class=\"dataframe\">\n",
              "  <thead>\n",
              "    <tr style=\"text-align: right;\">\n",
              "      <th></th>\n",
              "      <th>rating</th>\n",
              "      <th>Review</th>\n",
              "    </tr>\n",
              "  </thead>\n",
              "  <tbody>\n",
              "    <tr>\n",
              "      <th>1</th>\n",
              "      <td>8.0</td>\n",
              "      <td>It's awesome Got a chance to watch this at the premiere in NYC. Without giving too much away its awesome, loads of emotional character reunions, loads shocks and surprises throughout and a shocking end.</td>\n",
              "    </tr>\n",
              "    <tr>\n",
              "      <th>2</th>\n",
              "      <td>9.0</td>\n",
              "      <td>What a start! I was lucky enough to work the European premier in Belfast. What a way to start the new season. Left me wanting more.</td>\n",
              "    </tr>\n",
              "    <tr>\n",
              "      <th>3</th>\n",
              "      <td>1.0</td>\n",
              "      <td>Best season premiere! I had the honour of attending the first episode of the last season in Belfast. What an experience! You can clearly see that HBO has done everything in their power to make the season feel as grotesque as possible. The episode has everything a good Game of Thrones episode should contain: tension, shock, surprises, nudity and emotional moments. The episode is filled with beautiful and surprising reunions and feels much more cinematic. The pacing is fine and the fifty minutes feel like five minutes in the end. For me personally, this is the best season opener, closely followed by \"Two Swords\" and \"The North Remembers\". The episode also has an unexpected end, something to look forward to.</td>\n",
              "    </tr>\n",
              "    <tr>\n",
              "      <th>4</th>\n",
              "      <td>9.0</td>\n",
              "      <td>The best season Premiere in Game of Thrones!! This episode was was full of shock, excitement, humor, tension between a few characters, some nudity to spice things up😂😂and many much awaited character reunions. Followed by the new amazing score by Ramin Djawadi.</td>\n",
              "    </tr>\n",
              "    <tr>\n",
              "      <th>5</th>\n",
              "      <td>1.0</td>\n",
              "      <td>One of the best I was lucky to watch the premiere in ny and the episode is just way too good really funny and good overall</td>\n",
              "    </tr>\n",
              "    <tr>\n",
              "      <th>...</th>\n",
              "      <td>...</td>\n",
              "      <td>...</td>\n",
              "    </tr>\n",
              "    <tr>\n",
              "      <th>18117</th>\n",
              "      <td>1.0</td>\n",
              "      <td>When you have nothing to write This is how to end very badly a very good story . Very dissapointed with ending</td>\n",
              "    </tr>\n",
              "    <tr>\n",
              "      <th>18118</th>\n",
              "      <td>1.0</td>\n",
              "      <td>Explained to skeptical and haters I honestly don't know what they expected from the game of thrones, we were surprised as it always did. Spoiler: Many people got angry because Bran stayed with everything, but they just gave it to the throne for being the 3-eyed crow. Jon Snow went to the place where always felt full. We have had a worthy end. the construction of the characters was respected</td>\n",
              "    </tr>\n",
              "    <tr>\n",
              "      <th>18119</th>\n",
              "      <td>1.0</td>\n",
              "      <td>Totally disappointing D and D why would you do this to us it suck watching this great show getting wasted why would you make this great jon snow story to throw him with wildlings</td>\n",
              "    </tr>\n",
              "    <tr>\n",
              "      <th>18120</th>\n",
              "      <td>1.0</td>\n",
              "      <td>The Devil and his Children This series is a series of the devil.The followers of this series are the children of the devil.And every thumb down is the weakness of evil pride in admitting the truth.</td>\n",
              "    </tr>\n",
              "    <tr>\n",
              "      <th>18121</th>\n",
              "      <td>1.0</td>\n",
              "      <td>Destroyed Entire Series.. I really love this series, this is why I'm giving 1 star for destroyed whole series with one episode. So many peoples would loved to see Snow &amp; Dany rules together. Writers &amp; Creators admit that you all failed this Series &amp; broke hearts of GOT fans.</td>\n",
              "    </tr>\n",
              "  </tbody>\n",
              "</table>\n",
              "<p>18121 rows × 2 columns</p>\n",
              "</div>"
            ],
            "text/plain": [
              "       rating                                                                                                                                                                                                                                                                                                                                                                                                                                                                                                                                                                                                                                                                                                                                       Review\n",
              "1      8.0      It's awesome Got a chance to watch this at the premiere in NYC. Without giving too much away its awesome, loads of emotional character reunions, loads shocks and surprises throughout and a shocking end.                                                                                                                                                                                                                                                                                                                                                                                                                                                                                                                                \n",
              "2      9.0      What a start! I was lucky enough to work the European premier in Belfast. What a way to start the new season. Left me wanting more.                                                                                                                                                                                                                                                                                                                                                                                                                                                                                                                                                                                                       \n",
              "3      1.0      Best season premiere! I had the honour of attending the first episode of the last season in Belfast. What an experience! You can clearly see that HBO has done everything in their power to make the season feel as grotesque as possible. The episode has everything a good Game of Thrones episode should contain: tension, shock, surprises, nudity and emotional moments. The episode is filled with beautiful and surprising reunions and feels much more cinematic. The pacing is fine and the fifty minutes feel like five minutes in the end. For me personally, this is the best season opener, closely followed by \"Two Swords\" and \"The North Remembers\". The episode also has an unexpected end, something to look forward to.\n",
              "4      9.0      The best season Premiere in Game of Thrones!! This episode was was full of shock, excitement, humor, tension between a few characters, some nudity to spice things up😂😂and many much awaited character reunions. Followed by the new amazing score by Ramin Djawadi.                                                                                                                                                                                                                                                                                                                                                                                                                                                                      \n",
              "5      1.0      One of the best I was lucky to watch the premiere in ny and the episode is just way too good really funny and good overall                                                                                                                                                                                                                                                                                                                                                                                                                                                                                                                                                                                                                \n",
              "...    ...                                                                                                                             ...                                                                                                                                                                                                                                                                                                                                                                                                                                                                                                                                                                                                                \n",
              "18117  1.0      When you have nothing to write This is how to end very badly a very good story . Very dissapointed with ending                                                                                                                                                                                                                                                                                                                                                                                                                                                                                                                                                                                                                            \n",
              "18118  1.0      Explained to skeptical and haters I honestly don't know what they expected from the game of thrones, we were surprised as it always did. Spoiler: Many people got angry because Bran stayed with everything, but they just gave it to the throne for being the 3-eyed crow. Jon Snow went to the place where always felt full. We have had a worthy end. the construction of the characters was respected                                                                                                                                                                                                                                                                                                                                 \n",
              "18119  1.0      Totally disappointing D and D why would you do this to us it suck watching this great show getting wasted why would you make this great jon snow story to throw him with wildlings                                                                                                                                                                                                                                                                                                                                                                                                                                                                                                                                                        \n",
              "18120  1.0      The Devil and his Children This series is a series of the devil.The followers of this series are the children of the devil.And every thumb down is the weakness of evil pride in admitting the truth.                                                                                                                                                                                                                                                                                                                                                                                                                                                                                                                                     \n",
              "18121  1.0      Destroyed Entire Series.. I really love this series, this is why I'm giving 1 star for destroyed whole series with one episode. So many peoples would loved to see Snow & Dany rules together. Writers & Creators admit that you all failed this Series & broke hearts of GOT fans.                                                                                                                                                                                                                                                                                                                                                                                                                                                       \n",
              "\n",
              "[18121 rows x 2 columns]"
            ]
          },
          "metadata": {
            "tags": []
          },
          "execution_count": 16
        }
      ]
    },
    {
      "cell_type": "code",
      "metadata": {
        "colab": {
          "base_uri": "https://localhost:8080/"
        },
        "id": "kCOwemE6IR5-",
        "outputId": "03f04db2-96a4-4031-8e32-8c12cae51350"
      },
      "source": [
        "imdb_df.isnull().any()"
      ],
      "execution_count": 17,
      "outputs": [
        {
          "output_type": "execute_result",
          "data": {
            "text/plain": [
              "rating    False\n",
              "Review    False\n",
              "dtype: bool"
            ]
          },
          "metadata": {
            "tags": []
          },
          "execution_count": 17
        }
      ]
    },
    {
      "cell_type": "code",
      "metadata": {
        "id": "6BHVXxQkHH-Q"
      },
      "source": [
        "imdb_df.to_csv('/content/drive/MyDrive/Kaggle/imdb_reviews/GOT_S08_imdb_reviews.csv')"
      ],
      "execution_count": 19,
      "outputs": []
    }
  ]
}