{
  "nbformat": 4,
  "nbformat_minor": 0,
  "metadata": {
    "colab": {
      "name": "NLP_model.ipynb",
      "provenance": [],
      "mount_file_id": "1yc4BQgqoC_Q05FRloj9OjNNaQkJ2V8z-",
      "authorship_tag": "ABX9TyPfQiyw6SOUDr9dpvJQZYmp",
      "include_colab_link": true
    },
    "kernelspec": {
      "name": "python3",
      "display_name": "Python 3"
    },
    "accelerator": "GPU"
  },
  "cells": [
    {
      "cell_type": "markdown",
      "metadata": {
        "id": "view-in-github",
        "colab_type": "text"
      },
      "source": [
        "<a href=\"https://colab.research.google.com/github/devraval/GOT_S08_sentiments/blob/main/NLP_model.ipynb\" target=\"_parent\"><img src=\"https://colab.research.google.com/assets/colab-badge.svg\" alt=\"Open In Colab\"/></a>"
      ]
    },
    {
      "cell_type": "code",
      "metadata": {
        "colab": {
          "base_uri": "https://localhost:8080/"
        },
        "id": "pXJwdbCS-iUD",
        "outputId": "113dfb79-a172-490b-c5cd-0dfc26abf9ce"
      },
      "source": [
        "!nvidia-smi"
      ],
      "execution_count": null,
      "outputs": [
        {
          "output_type": "stream",
          "text": [
            "Tue Jul 20 00:24:14 2021       \n",
            "+-----------------------------------------------------------------------------+\n",
            "| NVIDIA-SMI 470.42.01    Driver Version: 460.32.03    CUDA Version: 11.2     |\n",
            "|-------------------------------+----------------------+----------------------+\n",
            "| GPU  Name        Persistence-M| Bus-Id        Disp.A | Volatile Uncorr. ECC |\n",
            "| Fan  Temp  Perf  Pwr:Usage/Cap|         Memory-Usage | GPU-Util  Compute M. |\n",
            "|                               |                      |               MIG M. |\n",
            "|===============================+======================+======================|\n",
            "|   0  Tesla T4            Off  | 00000000:00:04.0 Off |                    0 |\n",
            "| N/A   71C    P0    32W /  70W |   4478MiB / 15109MiB |      0%      Default |\n",
            "|                               |                      |                  N/A |\n",
            "+-------------------------------+----------------------+----------------------+\n",
            "                                                                               \n",
            "+-----------------------------------------------------------------------------+\n",
            "| Processes:                                                                  |\n",
            "|  GPU   GI   CI        PID   Type   Process name                  GPU Memory |\n",
            "|        ID   ID                                                   Usage      |\n",
            "|=============================================================================|\n",
            "|  No running processes found                                                 |\n",
            "+-----------------------------------------------------------------------------+\n"
          ],
          "name": "stdout"
        }
      ]
    },
    {
      "cell_type": "code",
      "metadata": {
        "id": "Is_bfUa9TEDm"
      },
      "source": [
        "from __future__ import absolute_import, division, print_function, unicode_literals\n",
        "\n",
        "import tensorflow as tf\n",
        "\n",
        "import os\n",
        "import datetime\n",
        "import tensorflow_hub as hub\n",
        "import numpy as np\n",
        "    \n",
        "import pandas as pd\n",
        "from sklearn.model_selection import train_test_split\n",
        "\n",
        "from sklearn.feature_extraction.text import CountVectorizer\n",
        "from keras.preprocessing.text import Tokenizer\n",
        "from keras.preprocessing.sequence import pad_sequences\n",
        "from keras.models import Sequential\n",
        "from keras.layers import Dense, Embedding, LSTM, SpatialDropout1D\n",
        "from sklearn.model_selection import train_test_split\n",
        "from keras.utils.np_utils import to_categorical\n",
        "import re"
      ],
      "execution_count": null,
      "outputs": []
    },
    {
      "cell_type": "code",
      "metadata": {
        "id": "KOxKOkhiSelJ"
      },
      "source": [
        "df=pd.read_csv('/content/drive/MyDrive/Kaggle/imdb_reviews/GOT_S08_imdb_reviews.csv',index_col=0)"
      ],
      "execution_count": null,
      "outputs": []
    },
    {
      "cell_type": "code",
      "metadata": {
        "colab": {
          "base_uri": "https://localhost:8080/",
          "height": 968
        },
        "id": "cPT7lzngIMNk",
        "outputId": "0b285ad0-459c-4d7b-de39-5d893a9e7e58"
      },
      "source": [
        "df.tail(30)"
      ],
      "execution_count": null,
      "outputs": [
        {
          "output_type": "execute_result",
          "data": {
            "text/html": [
              "<div>\n",
              "<style scoped>\n",
              "    .dataframe tbody tr th:only-of-type {\n",
              "        vertical-align: middle;\n",
              "    }\n",
              "\n",
              "    .dataframe tbody tr th {\n",
              "        vertical-align: top;\n",
              "    }\n",
              "\n",
              "    .dataframe thead th {\n",
              "        text-align: right;\n",
              "    }\n",
              "</style>\n",
              "<table border=\"1\" class=\"dataframe\">\n",
              "  <thead>\n",
              "    <tr style=\"text-align: right;\">\n",
              "      <th></th>\n",
              "      <th>Unnamed: 0.1</th>\n",
              "      <th>rating</th>\n",
              "      <th>content</th>\n",
              "    </tr>\n",
              "  </thead>\n",
              "  <tbody>\n",
              "    <tr>\n",
              "      <th>756144</th>\n",
              "      <td>756145</td>\n",
              "      <td>1</td>\n",
              "      <td>Absolute nonsense franklf May What is this SXX...</td>\n",
              "    </tr>\n",
              "    <tr>\n",
              "      <th>756145</th>\n",
              "      <td>756146</td>\n",
              "      <td>1</td>\n",
              "      <td>i can't believe this end medogb May The end mo...</td>\n",
              "    </tr>\n",
              "    <tr>\n",
              "      <th>756146</th>\n",
              "      <td>756147</td>\n",
              "      <td>8</td>\n",
              "      <td>I can't say anything 😰🔥 abdalla- May The episo...</td>\n",
              "    </tr>\n",
              "    <tr>\n",
              "      <th>756147</th>\n",
              "      <td>756148</td>\n",
              "      <td>4</td>\n",
              "      <td>The ending that got people to read more books....</td>\n",
              "    </tr>\n",
              "    <tr>\n",
              "      <th>756149</th>\n",
              "      <td>756150</td>\n",
              "      <td>1</td>\n",
              "      <td>I have to give it fare review ikfooii May Well...</td>\n",
              "    </tr>\n",
              "    <tr>\n",
              "      <th>756150</th>\n",
              "      <td>756151</td>\n",
              "      <td>10</td>\n",
              "      <td>What do you people expect?! scasey- May What ...</td>\n",
              "    </tr>\n",
              "    <tr>\n",
              "      <th>756151</th>\n",
              "      <td>756152</td>\n",
              "      <td>2</td>\n",
              "      <td>I never been disappointed this much saadzafar-...</td>\n",
              "    </tr>\n",
              "    <tr>\n",
              "      <th>756152</th>\n",
              "      <td>756153</td>\n",
              "      <td>7</td>\n",
              "      <td>The Greatest Show to Ever Exist miller_christi...</td>\n",
              "    </tr>\n",
              "    <tr>\n",
              "      <th>756153</th>\n",
              "      <td>756154</td>\n",
              "      <td>1</td>\n",
              "      <td>what was the reason for everything? ngonzaleza...</td>\n",
              "    </tr>\n",
              "    <tr>\n",
              "      <th>756154</th>\n",
              "      <td>756155</td>\n",
              "      <td>3</td>\n",
              "      <td>Disappointing torirockshard May Part of me wis...</td>\n",
              "    </tr>\n",
              "    <tr>\n",
              "      <th>756155</th>\n",
              "      <td>756156</td>\n",
              "      <td>1</td>\n",
              "      <td>Disrespectful For Fans! princeton May Doesn't ...</td>\n",
              "    </tr>\n",
              "    <tr>\n",
              "      <th>756156</th>\n",
              "      <td>756157</td>\n",
              "      <td>3</td>\n",
              "      <td>Worst fanfiction you could imagine tommunoz Ma...</td>\n",
              "    </tr>\n",
              "    <tr>\n",
              "      <th>756158</th>\n",
              "      <td>756159</td>\n",
              "      <td>10</td>\n",
              "      <td>Great episode amazing ending masx- May Warnin...</td>\n",
              "    </tr>\n",
              "    <tr>\n",
              "      <th>756159</th>\n",
              "      <td>756160</td>\n",
              "      <td>1</td>\n",
              "      <td>The end omarajmi May This bad end in the world...</td>\n",
              "    </tr>\n",
              "    <tr>\n",
              "      <th>756160</th>\n",
              "      <td>756161</td>\n",
              "      <td>9</td>\n",
              "      <td>Great finale to an epic series spyder- May War...</td>\n",
              "    </tr>\n",
              "    <tr>\n",
              "      <th>756161</th>\n",
              "      <td>756162</td>\n",
              "      <td>7</td>\n",
              "      <td>Fully satisfied psychoplayer May It was nice e...</td>\n",
              "    </tr>\n",
              "    <tr>\n",
              "      <th>756162</th>\n",
              "      <td>756163</td>\n",
              "      <td>9</td>\n",
              "      <td>A decent episode that deserves a good rating a...</td>\n",
              "    </tr>\n",
              "    <tr>\n",
              "      <th>756163</th>\n",
              "      <td>756164</td>\n",
              "      <td>1</td>\n",
              "      <td>Horrible taymconrad May Say goodbye to all cha...</td>\n",
              "    </tr>\n",
              "    <tr>\n",
              "      <th>756164</th>\n",
              "      <td>756165</td>\n",
              "      <td>3</td>\n",
              "      <td>Acceptable ending but ...... Luvetsu May Warni...</td>\n",
              "    </tr>\n",
              "    <tr>\n",
              "      <th>756165</th>\n",
              "      <td>756166</td>\n",
              "      <td>1</td>\n",
              "      <td>All that could go wrong did go wrong thiwatana...</td>\n",
              "    </tr>\n",
              "    <tr>\n",
              "      <th>756166</th>\n",
              "      <td>756167</td>\n",
              "      <td>1</td>\n",
              "      <td>breaks my heart they turned the show into a jo...</td>\n",
              "    </tr>\n",
              "    <tr>\n",
              "      <th>756167</th>\n",
              "      <td>756168</td>\n",
              "      <td>1</td>\n",
              "      <td>finally afa- May Worst finaly. ever :&amp;!:&amp;/'shd...</td>\n",
              "    </tr>\n",
              "    <tr>\n",
              "      <th>756168</th>\n",
              "      <td>756169</td>\n",
              "      <td>1</td>\n",
              "      <td>disasterous story line himanshu-malhotra May W...</td>\n",
              "    </tr>\n",
              "    <tr>\n",
              "      <th>756169</th>\n",
              "      <td>756170</td>\n",
              "      <td>1</td>\n",
              "      <td>Final season rhalthani May SEASON  Is a big di...</td>\n",
              "    </tr>\n",
              "    <tr>\n",
              "      <th>756170</th>\n",
              "      <td>756171</td>\n",
              "      <td>1</td>\n",
              "      <td>SHAME SHAME SHAME silvialilianafcp- May Disapp...</td>\n",
              "    </tr>\n",
              "    <tr>\n",
              "      <th>756171</th>\n",
              "      <td>756172</td>\n",
              "      <td>1</td>\n",
              "      <td>I'm just going to pretend season  didn't happe...</td>\n",
              "    </tr>\n",
              "    <tr>\n",
              "      <th>756172</th>\n",
              "      <td>756173</td>\n",
              "      <td>1</td>\n",
              "      <td>They should have canceled the show than doing ...</td>\n",
              "    </tr>\n",
              "    <tr>\n",
              "      <th>756173</th>\n",
              "      <td>756174</td>\n",
              "      <td>10</td>\n",
              "      <td>Unexpected but satisfying halloumjihad May Wa...</td>\n",
              "    </tr>\n",
              "    <tr>\n",
              "      <th>756174</th>\n",
              "      <td>756175</td>\n",
              "      <td>4</td>\n",
              "      <td>This season finale could have marked the histo...</td>\n",
              "    </tr>\n",
              "    <tr>\n",
              "      <th>756175</th>\n",
              "      <td>756176</td>\n",
              "      <td>10</td>\n",
              "      <td>The end soussi- May Our watch has endedThe be...</td>\n",
              "    </tr>\n",
              "  </tbody>\n",
              "</table>\n",
              "</div>"
            ],
            "text/plain": [
              "        Unnamed: 0.1  rating                                            content\n",
              "756144        756145       1  Absolute nonsense franklf May What is this SXX...\n",
              "756145        756146       1  i can't believe this end medogb May The end mo...\n",
              "756146        756147       8  I can't say anything 😰🔥 abdalla- May The episo...\n",
              "756147        756148       4  The ending that got people to read more books....\n",
              "756149        756150       1  I have to give it fare review ikfooii May Well...\n",
              "756150        756151      10   What do you people expect?! scasey- May What ...\n",
              "756151        756152       2  I never been disappointed this much saadzafar-...\n",
              "756152        756153       7  The Greatest Show to Ever Exist miller_christi...\n",
              "756153        756154       1  what was the reason for everything? ngonzaleza...\n",
              "756154        756155       3  Disappointing torirockshard May Part of me wis...\n",
              "756155        756156       1  Disrespectful For Fans! princeton May Doesn't ...\n",
              "756156        756157       3  Worst fanfiction you could imagine tommunoz Ma...\n",
              "756158        756159      10   Great episode amazing ending masx- May Warnin...\n",
              "756159        756160       1  The end omarajmi May This bad end in the world...\n",
              "756160        756161       9  Great finale to an epic series spyder- May War...\n",
              "756161        756162       7  Fully satisfied psychoplayer May It was nice e...\n",
              "756162        756163       9  A decent episode that deserves a good rating a...\n",
              "756163        756164       1  Horrible taymconrad May Say goodbye to all cha...\n",
              "756164        756165       3  Acceptable ending but ...... Luvetsu May Warni...\n",
              "756165        756166       1  All that could go wrong did go wrong thiwatana...\n",
              "756166        756167       1  breaks my heart they turned the show into a jo...\n",
              "756167        756168       1  finally afa- May Worst finaly. ever :&!:&/'shd...\n",
              "756168        756169       1  disasterous story line himanshu-malhotra May W...\n",
              "756169        756170       1  Final season rhalthani May SEASON  Is a big di...\n",
              "756170        756171       1  SHAME SHAME SHAME silvialilianafcp- May Disapp...\n",
              "756171        756172       1  I'm just going to pretend season  didn't happe...\n",
              "756172        756173       1  They should have canceled the show than doing ...\n",
              "756173        756174      10   Unexpected but satisfying halloumjihad May Wa...\n",
              "756174        756175       4  This season finale could have marked the histo...\n",
              "756175        756176      10   The end soussi- May Our watch has endedThe be..."
            ]
          },
          "metadata": {
            "tags": []
          },
          "execution_count": 25
        }
      ]
    },
    {
      "cell_type": "code",
      "metadata": {
        "id": "gePtD4EcX6Xw"
      },
      "source": [
        "pd.set_option('max_colwidth',-1)\n",
        "df.tail(30)"
      ],
      "execution_count": null,
      "outputs": []
    },
    {
      "cell_type": "code",
      "metadata": {
        "id": "PnMk4GNVcP2R"
      },
      "source": [
        "df['content'] = df['content'].apply((lambda x: re.sub('[^a-z0-9\\s?!]','',x.lower())))\n",
        "df['rating']=df['rating'].astype(int,copy=False)\n",
        "df.drop('Unnamed: 0.1',1,inplace=True)\n",
        "max_fatures = 2500\n",
        "tokenizer = Tokenizer(num_words=max_fatures, split=' ')\n",
        "tokenizer.fit_on_texts(df['content'].values)\n",
        "X1 = tokenizer.texts_to_sequences(df['content'].values)\n",
        "X = pad_sequences(X1)"
      ],
      "execution_count": null,
      "outputs": []
    },
    {
      "cell_type": "code",
      "metadata": {
        "id": "OmTDkax4ZBfd"
      },
      "source": [
        "vocab=tokenizer.get_config()\n",
        "vocab"
      ],
      "execution_count": null,
      "outputs": []
    },
    {
      "cell_type": "code",
      "metadata": {
        "id": "-xHxUI9ZBjMc"
      },
      "source": [
        "df['rating'].value_counts()"
      ],
      "execution_count": null,
      "outputs": []
    },
    {
      "cell_type": "markdown",
      "metadata": {
        "id": "On-DnA90ErRV"
      },
      "source": [
        "### Target encoding\n",
        "0 : Absolutely negative sentiment with 1,2,3,4 stars\n",
        "\n",
        "1 : Fairly negative sentiment with 5, 6 stars\n",
        "\n",
        "2 : Mixed, fairly positive sentiment with 7,8 stars\n",
        "\n",
        "3 : Absolutely Positive sentiment with 9,10 stars"
      ]
    },
    {
      "cell_type": "code",
      "metadata": {
        "id": "8AORzqh7CBIw"
      },
      "source": [
        "df['rating'].replace([1,2,3],0,inplace=True)\n",
        "df['rating'].replace([4,5],1,inplace=True)\n",
        "df['rating'].replace([6,7],2,inplace=True)\n",
        "df['rating'].replace([8,9],3,inplace=True)\n",
        "df['rating'].replace([10],4,inplace=True)"
      ],
      "execution_count": null,
      "outputs": []
    },
    {
      "cell_type": "code",
      "metadata": {
        "id": "hMFJAFETBrQ4"
      },
      "source": [
        "from sklearn.utils import class_weight\n",
        "class_weights = list(class_weight.compute_class_weight('balanced',\n",
        "                                             np.unique(df['rating']),\n",
        "                                             df['rating']))"
      ],
      "execution_count": null,
      "outputs": []
    },
    {
      "cell_type": "code",
      "metadata": {
        "id": "xPEKqoXTFdtR"
      },
      "source": [
        "class_weights"
      ],
      "execution_count": null,
      "outputs": []
    },
    {
      "cell_type": "code",
      "metadata": {
        "id": "_BF8CNokX6v_"
      },
      "source": [
        "X_train, X_valid_test = train_test_split(df, test_size=0.3, shuffle=True,random_state=11)"
      ],
      "execution_count": null,
      "outputs": []
    },
    {
      "cell_type": "code",
      "metadata": {
        "id": "gBu78cZXA17C"
      },
      "source": [
        "X_valid,X_test=train_test_split(X_valid_test,test_size=0.5,shuffle=True,random_state=11)"
      ],
      "execution_count": null,
      "outputs": []
    },
    {
      "cell_type": "code",
      "metadata": {
        "id": "ici_Jn0cYNQY"
      },
      "source": [
        "dataset_train = tf.data.Dataset.from_tensor_slices((X_train['content'].values, X_train['rating'].values))\n",
        "dataset_valid = tf.data.Dataset.from_tensor_slices((X_valid['content'].values, X_valid['rating'].values))\n",
        "dataset_test = tf.data.Dataset.from_tensor_slices((X_test['content'].values, X_test['rating'].values))"
      ],
      "execution_count": null,
      "outputs": []
    },
    {
      "cell_type": "code",
      "metadata": {
        "id": "TbUDHkjlY93y"
      },
      "source": [
        "for text, target in dataset_train.take(5):\n",
        "  print ('content: {} \\n rating: {}'.format(text, target))"
      ],
      "execution_count": null,
      "outputs": []
    },
    {
      "cell_type": "code",
      "metadata": {
        "colab": {
          "base_uri": "https://localhost:8080/"
        },
        "id": "RqNlufGRHcKG",
        "outputId": "7a5bca35-84d0-4fed-ff0a-18c8ebd46d8e"
      },
      "source": [
        "for text, target in dataset_test.take(5):\n",
        "  print ('content: {} \\n rating: {}'.format(text, target))"
      ],
      "execution_count": null,
      "outputs": [
        {
          "output_type": "stream",
          "text": [
            "content: b' the best got episode shtain april a great course of action great acting great effects and nontheless a great score                     out of  found this helpful                                                    was this review helpful?  sign in to vote                        permalink' \n",
            " rating: 10\n",
            "content: b' for those who rated  star jokmokri may please rate professionally and dont rushif you dont like it just give it a fair score                     out of  found this helpful                                                    was this review helpful?  sign in to vote                        permalink' \n",
            " rating: 10\n",
            "content: b' one of the best episodes of the entire got dimitrie may warning spoilers                     out of  found this helpful                                                    was this review helpful?  sign in to vote                        permalinki dont understand all these very bad reviewsyes previous episodes of these season were not as we expected the useless bran the battle of winterfell with the killling of the nk the illogical killing of rhaegal but this episode is a masterpiece even if you didnt like the writingstory  the cinematography the sound the acting were brilliantfeeling betrayed by all of those she trusted and loved when everything she did was in vain and not valued daenerys decides that the only way that she can impose herself is by fear  and this is what she does its not madnessthe way in which the story of the hound and the mountain the goodbye between arya and the hound but more importantly the one of jaime and cersei finishes is truly emotional' \n",
            " rating: 10\n",
            "content: b'very disappointing mohammedalawaji may dragging the episode with rd class action and story telling and the worst graphics ive seen years                     out of  found this helpful                                                    was this review helpful?  sign in to vote                        permalink' \n",
            " rating: 5\n",
            "content: b' it was only heading one way from the start klarkee may warning spoilers                     out of  found this helpful                                                    was this review helpful?  sign in to vote                        permalinkmost fans on here want a happy ending clearly game of thrones has never been about happy endings and thats exactly what this show episode has deliveredgreat episode if not one of the best' \n",
            " rating: 10\n"
          ],
          "name": "stdout"
        }
      ]
    },
    {
      "cell_type": "code",
      "metadata": {
        "id": "gWi3lGi8ZkZc"
      },
      "source": [
        "def fetch(text, labels):\n",
        "  return text, tf.one_hot(labels,10)"
      ],
      "execution_count": null,
      "outputs": []
    },
    {
      "cell_type": "code",
      "metadata": {
        "id": "4Cvn2Bex2BFy"
      },
      "source": [
        "train_data_f = dataset_train.map(fetch)\n",
        "valid_data_f = dataset_valid.map(fetch)\n",
        "test_data_f = dataset_test.map(fetch)"
      ],
      "execution_count": null,
      "outputs": []
    },
    {
      "cell_type": "code",
      "metadata": {
        "colab": {
          "base_uri": "https://localhost:8080/"
        },
        "id": "xzCbmxBe2JXh",
        "outputId": "e2600e46-d426-443b-c568-caead1aba25b"
      },
      "source": [
        "train_data, train_labels = next(iter(train_data_f.batch(5)))\n",
        "train_data, train_labels"
      ],
      "execution_count": null,
      "outputs": [
        {
          "output_type": "execute_result",
          "data": {
            "text/plain": [
              "(<tf.Tensor: shape=(5,), dtype=string, numpy=\n",
              " array([b'poor written tgbao may the saddest death of this episode was this series extremely disappointed                     out of  found this helpful                                                    was this review helpful?  sign in to vote                        permalink',\n",
              "        b'doesnt make any sense whitegio may warning spoilers                     out of  found this helpful                                                    was this review helpful?  sign in to vote                        permalinkthe characters behave completely out of character it is just not believable and the way theyve killed the dragon?!? such bs the plot doesnt make any sense and the story doesnt flow they seem to teleport everywhere when in the first seasons it would take  episodes to move from one castle to another one they dont convey any passage of time between scenes they have butchered so many characters who had evolved so much during the series now they are all dumb it seems',\n",
              "        b'the worst battle in the history of got mohammed may wtf in the name of god  night king the most parefull character in the series end in one battle with bad ending and the main characters still alive  i hate that where is the got going on                     out of  found this helpful                                                    was this review helpful?  sign in to vote                        permalink',\n",
              "        b'what is the deal with all the hate? kaylashumake may warning spoilers                     out of  found this helpful                                                    was this review helpful?  sign in to vote                        permalinki keep seeing all of these posts talking about how the night king should have been the big baddo your research george rr martin has said on multiple occasions that his biggest complaint about j r r tolkiens writing his biggest inspiration was that all the good characters  teamed up against the pure evil martin has stated time and time again he likes grey characters human characters who have motives and flaws but none of whom are truly evil cersei was always destined to be the final battle it was pretty easy to decide the night king was evil and to team up against him but the political game in westeros is harder to decipherafter all when you play the games of thrones you win or you die',\n",
              "        b'winter had come and gone in just  week shyinx june warning spoilers                     out of  found this helpful                                                    was this review helpful?  sign in to vote                        permalinkfirst episode of season one named the winter is comingwere we really waiting for this crap episode? is this the great war or just a parody of got? in a wedding  main characters  starks were dead but in this episode just  mormonts are dead and not important other  characters that i will not talk about did we really wait for this? ramsay bolton is actually more effective villain its clear it is just funny but it is also real sad this is not game of thrones they ruined the show'],\n",
              "       dtype=object)>, <tf.Tensor: shape=(5, 10), dtype=float32, numpy=\n",
              " array([[0., 0., 1., 0., 0., 0., 0., 0., 0., 0.],\n",
              "        [0., 0., 0., 1., 0., 0., 0., 0., 0., 0.],\n",
              "        [0., 0., 0., 0., 0., 0., 0., 0., 1., 0.],\n",
              "        [0., 0., 0., 0., 0., 0., 0., 0., 0., 1.],\n",
              "        [0., 0., 0., 0., 1., 0., 0., 0., 0., 0.]], dtype=float32)>)"
            ]
          },
          "metadata": {
            "tags": []
          },
          "execution_count": 15
        }
      ]
    },
    {
      "cell_type": "code",
      "metadata": {
        "colab": {
          "base_uri": "https://localhost:8080/"
        },
        "id": "LESiGeY7IBJQ",
        "outputId": "e9adf99c-517a-4b5a-c3dd-27cca44ca864"
      },
      "source": [
        "test_data, test_labels = next(iter(test_data_f.batch(5)))\n",
        "test_data, test_labels"
      ],
      "execution_count": null,
      "outputs": [
        {
          "output_type": "execute_result",
          "data": {
            "text/plain": [
              "(<tf.Tensor: shape=(5,), dtype=string, numpy=\n",
              " array([b' the best got episode shtain april a great course of action great acting great effects and nontheless a great score                     out of  found this helpful                                                    was this review helpful?  sign in to vote                        permalink',\n",
              "        b' for those who rated  star jokmokri may please rate professionally and dont rushif you dont like it just give it a fair score                     out of  found this helpful                                                    was this review helpful?  sign in to vote                        permalink',\n",
              "        b' one of the best episodes of the entire got dimitrie may warning spoilers                     out of  found this helpful                                                    was this review helpful?  sign in to vote                        permalinki dont understand all these very bad reviewsyes previous episodes of these season were not as we expected the useless bran the battle of winterfell with the killling of the nk the illogical killing of rhaegal but this episode is a masterpiece even if you didnt like the writingstory  the cinematography the sound the acting were brilliantfeeling betrayed by all of those she trusted and loved when everything she did was in vain and not valued daenerys decides that the only way that she can impose herself is by fear  and this is what she does its not madnessthe way in which the story of the hound and the mountain the goodbye between arya and the hound but more importantly the one of jaime and cersei finishes is truly emotional',\n",
              "        b'very disappointing mohammedalawaji may dragging the episode with rd class action and story telling and the worst graphics ive seen years                     out of  found this helpful                                                    was this review helpful?  sign in to vote                        permalink',\n",
              "        b' it was only heading one way from the start klarkee may warning spoilers                     out of  found this helpful                                                    was this review helpful?  sign in to vote                        permalinkmost fans on here want a happy ending clearly game of thrones has never been about happy endings and thats exactly what this show episode has deliveredgreat episode if not one of the best'],\n",
              "       dtype=object)>, <tf.Tensor: shape=(5, 10), dtype=float32, numpy=\n",
              " array([[0., 0., 0., 0., 0., 0., 0., 0., 0., 0.],\n",
              "        [0., 0., 0., 0., 0., 0., 0., 0., 0., 0.],\n",
              "        [0., 0., 0., 0., 0., 0., 0., 0., 0., 0.],\n",
              "        [0., 0., 0., 0., 0., 1., 0., 0., 0., 0.],\n",
              "        [0., 0., 0., 0., 0., 0., 0., 0., 0., 0.]], dtype=float32)>)"
            ]
          },
          "metadata": {
            "tags": []
          },
          "execution_count": 16
        }
      ]
    },
    {
      "cell_type": "code",
      "metadata": {
        "id": "HE_JOMLS-fgx"
      },
      "source": [
        "import tensorflow_hub as hub\n",
        "embedding = \"https://tfhub.dev/google/tf2-preview/nnlm-en-dim128/1\"\n",
        "hub_layer = hub.KerasLayer(embedding, output_shape=[128], input_shape=[], \n",
        "                           dtype=tf.string, trainable=True)\n",
        "hub_layer(train_data[:1])"
      ],
      "execution_count": null,
      "outputs": []
    },
    {
      "cell_type": "code",
      "metadata": {
        "id": "UKm_EStikUPD"
      },
      "source": [
        "model = tf.keras.Sequential()\n",
        "model.add(hub_layer)\n",
        "for units in [128, 64 , 32]:\n",
        "  model.add(tf.keras.layers.Dense(units, activation='relu'))\n",
        "  model.add(tf.keras.layers.Dropout(0.3))\n",
        "model.add(tf.keras.layers.Dense(10, activation='softmax'))\n",
        "\n",
        "model.summary()"
      ],
      "execution_count": null,
      "outputs": []
    },
    {
      "cell_type": "code",
      "metadata": {
        "id": "taVmlqAgl5uL"
      },
      "source": [
        "model.compile(optimizer='adam',\n",
        "              loss=tf.keras.losses.CategoricalCrossentropy(from_logits=False),\n",
        "              metrics=['accuracy'])"
      ],
      "execution_count": null,
      "outputs": []
    },
    {
      "cell_type": "code",
      "metadata": {
        "id": "8VKCpipxl-7i"
      },
      "source": [
        "train_data_f=train_data_f.shuffle(70000).batch(512)\n",
        "test_data_f=test_data_f.batch(512)"
      ],
      "execution_count": null,
      "outputs": []
    },
    {
      "cell_type": "code",
      "metadata": {
        "id": "HQJbA6XRmMw3"
      },
      "source": [
        "history = model.fit(train_data_f,\n",
        "                    epochs=4,\n",
        "                    validation_data=valid_data_f.batch(512),\n",
        "                    verbose=1)"
      ],
      "execution_count": null,
      "outputs": []
    },
    {
      "cell_type": "code",
      "metadata": {
        "colab": {
          "base_uri": "https://localhost:8080/"
        },
        "id": "CkpEkBbKmZMg",
        "outputId": "3b38732e-bd25-4956-a471-4d394e312c68"
      },
      "source": [
        "len(list(dataset_test))"
      ],
      "execution_count": null,
      "outputs": [
        {
          "output_type": "execute_result",
          "data": {
            "text/plain": [
              "73570"
            ]
          },
          "metadata": {
            "tags": []
          },
          "execution_count": 25
        }
      ]
    },
    {
      "cell_type": "code",
      "metadata": {
        "colab": {
          "base_uri": "https://localhost:8080/"
        },
        "id": "QaM2OriNnu7H",
        "outputId": "cb0c44aa-31b4-4230-eff3-e3a3a4537249"
      },
      "source": [
        "results = model.evaluate(dataset_test.map(fetch).batch(11491), verbose=2)\n",
        "\n",
        "print(results)"
      ],
      "execution_count": null,
      "outputs": [
        {
          "output_type": "stream",
          "text": [
            "7/7 - 2s - loss: 0.0017 - accuracy: 0.9996\n",
            "[0.0016712306533008814, 0.9996194243431091]\n"
          ],
          "name": "stdout"
        }
      ]
    },
    {
      "cell_type": "code",
      "metadata": {
        "id": "WPCY8fyUnySK"
      },
      "source": [
        "test_data1, test_labels1 = next(iter(dataset_test.map(fetch).batch(45963)))"
      ],
      "execution_count": null,
      "outputs": []
    },
    {
      "cell_type": "code",
      "metadata": {
        "colab": {
          "base_uri": "https://localhost:8080/"
        },
        "id": "qWIXSL36n6p8",
        "outputId": "72953d9e-5398-4b68-f035-feb115463878"
      },
      "source": [
        "y_pred=model.predict(test_data1)\n",
        "\n",
        "from sklearn.metrics import classification_report\n",
        "\n",
        "print(classification_report(test_labels1.numpy().argmax(axis=1), y_pred.argmax(axis=1)))"
      ],
      "execution_count": null,
      "outputs": [
        {
          "output_type": "stream",
          "text": [
            "              precision    recall  f1-score   support\n",
            "\n",
            "           0       1.00      1.00      1.00     23412\n",
            "           1       1.00      1.00      1.00      4427\n",
            "           2       1.00      1.00      1.00      3904\n",
            "           3       1.00      1.00      1.00     14220\n",
            "\n",
            "    accuracy                           1.00     45963\n",
            "   macro avg       1.00      1.00      1.00     45963\n",
            "weighted avg       1.00      1.00      1.00     45963\n",
            "\n"
          ],
          "name": "stdout"
        }
      ]
    },
    {
      "cell_type": "code",
      "metadata": {
        "id": "iE-5YHWsoAnI"
      },
      "source": [
        ""
      ],
      "execution_count": null,
      "outputs": []
    },
    {
      "cell_type": "code",
      "metadata": {
        "id": "R-uPhHs-Enyg"
      },
      "source": [
        ""
      ],
      "execution_count": null,
      "outputs": []
    }
  ]
}